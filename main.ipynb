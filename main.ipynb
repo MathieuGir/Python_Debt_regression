{
 "cells": [
  {
   "cell_type": "markdown",
   "metadata": {},
   "source": [
    "Plan \n",
    "\n",
    "I Construction de la base de données\n",
    "1) Récupération des données INSEE via l'API pynsee\n",
    "2) Autres données : scraping et import de fichiers en local\n",
    "3) Fusion des bases de données\n",
    "\n",
    "II Statistiques descriptives\n",
    "\n",
    "\n",
    "III Modéliation\n",
    "1) Régression classique \n",
    "2) Détection de grandes périodes et points de rupture"
   ]
  },
  {
   "cell_type": "markdown",
   "metadata": {},
   "source": [
    "# I Construction de la base de données\n",
    "\n",
    "## 1) Récupération des données INSEE via l'API pynsee\n",
    "\n",
    "Notre sujet abordant des questions de politiques publiques, il nous était impensable de ne pas commencer à chercher des données sur le site de l'INSEE. Et nous avons en effet trouvé ce que nous cherchions. Restait encore la question de l'import des bases de données. \n",
    "Une première option s'offrait à nous, plus simple, mais plus répétitive et moins performante : télécharger les bases de données une par une, puis les uploader sur le github. \n",
    "La seconde option est celle que nous avons utilisée : nous avons importé les bases de données via l'API pynsee, ce qui nous permettait de ne pas rencontrer les mêmes difficultés. "
   ]
  },
  {
   "cell_type": "code",
   "execution_count": null,
   "metadata": {},
   "outputs": [],
   "source": [
    "#Download Pypi package \n",
    "#pip install pynsee[full]\n",
    "#pip install matplotlib\n",
    "#pip install seaborn\n",
    "#pip install scipy\n",
    "\n",
    "import subprocess\n",
    "import pandas as pd\n",
    "import re\n",
    "import numpy as np\n",
    "\n",
    "modules = ['pynsee[full]', 'matplotlib', 'seaborn', 'scipy']\n",
    "\n",
    "for modules in modules:\n",
    "    subprocess.check_call([\"python\", '-m', 'pip', 'install', modules])\n",
    "\n",
    "from pynsee.utils.init_conn import init_conn\n",
    "init_conn(insee_key='GvulBMLLd4u26RRdMPxYlvqjvHYa', insee_secret='MvDm1OBD_s1a4A33InvrYRT_wEga')\n",
    "\n",
    "from pynsee.macrodata import * \n",
    "from pynsee.macrodata.get_series_list import get_series_list\n",
    "from pynsee.macrodata.get_series import get_series"
   ]
  },
  {
   "cell_type": "markdown",
   "metadata": {},
   "source": [
    "Nous avons ensuite créé deux fonctions : \n",
    "- clean_filename : \n",
    "- import_and_save_data : permet d'importer le fichier souhaité (via l'id_bank de l'INSEE) en le renommant (en donnant le nom souhaité)"
   ]
  },
  {
   "cell_type": "code",
   "execution_count": null,
   "metadata": {},
   "outputs": [],
   "source": [
    "\n",
    "def clean_filename(name):\n",
    "    return re.sub(r'[^a-zA-Z0-9]', '_', str(name))\n",
    "\n",
    "def import_and_save_data(id_bank, dataframe_name):\n",
    "    data = get_series(id_bank)\n",
    "    data_filtered = data.loc[:, ['DATE', 'OBS_VALUE']] #Sélection des variables d'intérêt\n",
    "    data_filtered['DATE'] = pd.to_datetime(data_filtered['DATE'])\n",
    "\n",
    "    new_column_name = clean_filename(dataframe_name) \n",
    "    data_filtered = data_filtered.rename(columns={'OBS_VALUE': new_column_name}) # Renommer la colonne OBS_VALUE avec le nom du df\n",
    "    print(data_filtered.head()) #Vérification des données\n",
    "\n",
    "    csv_filename = f'datas/{clean_filename(dataframe_name)}_filtered.csv'\n",
    "    data_filtered.to_csv(csv_filename, index=False) #Sauvegarde dans un fichier csv\n",
    "\n",
    "    return data_filtered"
   ]
  },
  {
   "cell_type": "markdown",
   "metadata": {},
   "source": [
    "Il ne nous restait donc plus qu'à exécuter le code pour les données que nous souhaitions importer : "
   ]
  },
  {
   "cell_type": "code",
   "execution_count": null,
   "metadata": {},
   "outputs": [],
   "source": [
    "governement_negotiable_debts = import_and_save_data('001711531', 'negotiable_debts')\n",
    "data_firms_creation = import_and_save_data('010755537', 'firms_creation')\n",
    "data_unemployment_rate = import_and_save_data('001515842', 'unemployment_rate')\n",
    "data_BOP = import_and_save_data('001694057', 'BOP')\n",
    "data_natality_rate = import_and_save_data('000436392', 'natality_rate')\n",
    "data_business_insolvencies = import_and_save_data('001656164', 'business_insolvencies')"
   ]
  },
  {
   "cell_type": "markdown",
   "metadata": {},
   "source": [
    "## 2) Import des autres données : \n",
    "\n",
    "   ### 2-1 Taux de change et CAC40\n",
    "\n",
    "Afin de récupérer le taux de change ainsi que l'indice du CAC 40, il n'était pas possible de recourir à la base de données de l'INSEE. Nous avons cependant trouvé des données en open-data, disponibles à ces adresses : \n",
    "- https://www.investing.com/currencies/eur-usd-historical-data pour le taux de change au certain €/$\n",
    "- https://fr.investing.com/indices/france-40-historical-data pour le CAC 40\n",
    "\n",
    "Cette méthode présente néanmoins les mêmes désavantages que ceux listés pour la première option de l'import des bases de données de l'INSEE. Nous l'avons donc seulement choisie en raison du nombre limité de bases de données à importer (deux) et d'absence d'autres bases aussi accessibles et complètes.\n",
    "Il ne suffisait que de retravailler les données afin d'obtenir le format de date souhaité et le format anglo-saxon pour les float (. à la place de ,)"
   ]
  },
  {
   "cell_type": "code",
   "execution_count": null,
   "metadata": {},
   "outputs": [],
   "source": [
    "import pandas as pd\n",
    "import os\n",
    "\n",
    "#NOTE : essayer d'upload les fichiers sur GITHUB pour que ce soit plus reproductible\n",
    "\n",
    "destination_folder = \"datas\"\n",
    "files = {\n",
    "    'C:\\\\Users\\\\mathi\\\\Downloads\\\\CAC 40 Historical Data (2).csv': 'CAC_40.csv',\n",
    "    'C:\\\\Users\\\\mathi\\\\Downloads\\\\EUR_USD Historical Data (3).csv': 'EUR_USD.csv'\n",
    "}\n",
    "\n",
    "for file_path, new_name in files.items():\n",
    "    df = pd.read_csv(file_path, encoding='utf-8')\n",
    "    df.rename(columns={'Date': 'DATE'}, inplace=True)\n",
    "    df['DATE'] = pd.to_datetime(df['DATE'], format='%m/%d/%Y', errors='coerce') #Conversion de la date à un format standard\n",
    "    df['DATE'] = df['DATE'].dt.strftime('%Y-%m-%d')\n",
    "    print(\"date successful\")\n",
    "\n",
    "    if new_name == 'CAC_40.csv':    \n",
    "        df = df[['DATE', 'Price']]\n",
    "        df.rename(columns={'Price': 'Valuation'}, inplace=True)\n",
    "        print(new_name, df.head())\n",
    "        df['Valuation'] = df['Valuation'].str.replace('.', '').str.replace(',', '.').str.replace('\"', '').astype(float)\n",
    "    \n",
    "    elif new_name == 'EUR_USD.csv':\n",
    "        df = df[['DATE', 'Price']]\n",
    "        df.rename(columns={'Price': 'Exch_rate'}, inplace=True)\n",
    "        print(new_name, df.head())\n",
    "        df['Exch_rate'] = df['Exch_rate'].replace({',': '.', '\"': ''}, regex=True).astype(float)\n",
    "\n",
    "    new_path = os.path.join(destination_folder, new_name)\n",
    "    df.to_csv(new_path, index=False)"
   ]
  },
  {
   "attachments": {
    "image.png": {
     "image/png": "[encoded data removed]"
    }
   },
   "cell_type": "markdown",
   "metadata": {},
   "source": [
    "Un autre challenge restait celui de la récupération des taux directeurs. En effet, ceux-ci jouent un rôle clé dans l'évolution de la dette en ce qu'ils déterminent les intérêts à payer. Nous avons décidé de les récupérer sur le site de la Banque Centrale Européenne (BCE, ou ECB en anglais). Cette fois-ci avec plusieurs difficultés : \n",
    "- les années n'étaient pas présentes sur toutes les lignes et pouvaient fonctionner par \"groupe\"  \n",
    "- les dates n'étaient pas au format standard mais avec des abréviations\n",
    "- les numéros de note pour les notes de bas de page étaient affichés dans la date. Ex : 15 Oct.4\n",
    "\n",
    "![image.png](attachment:image.png)"
   ]
  },
  {
   "cell_type": "code",
   "execution_count": 1,
   "metadata": {},
   "outputs": [
    {
     "name": "stdout",
     "output_type": "stream",
     "text": [
      "   Year     Date Deposit facility Fixed rate Minimum bid rate  \\\n",
      "0  2023  20 Sep.             4.00       4.50                -   \n",
      "1  2023   2 Aug.             3.75       4.25                -   \n",
      "2  2023  21 Jun.             3.50       4.00                -   \n",
      "3  2023   10 May             3.25       3.75                -   \n",
      "4  2023  22 Mar.             3.00       3.50                -   \n",
      "\n",
      "  Marginal lending facility  \n",
      "0                      4.75  \n",
      "1                      4.50  \n",
      "2                      4.25  \n",
      "3                      4.00  \n",
      "4                      3.75  \n"
     ]
    }
   ],
   "source": [
    "#Installation des modules \n",
    "\n",
    "\n",
    "#Import des librairies\n",
    "# pip install -q lxml\n",
    "# pip install webdriver-manager\n",
    "\n",
    "import subprocess\n",
    "import pandas as pd\n",
    "\n",
    "\n",
    "modules = [\"lxml\", \"webdriver-manager\", \"bs4\"]\n",
    "for module in modules:\n",
    "    subprocess.run([\"pip\", \"install\", module])\n",
    "\n",
    "import bs4\n",
    "import lxml\n",
    "import urllib\n",
    "import re\n",
    "\n",
    "\n",
    "from urllib import request\n",
    "from datetime import datetime\n",
    "\n",
    "url_ecb = \"https://www.ecb.europa.eu/stats/policy_and_exchange_rates/key_ecb_interest_rates/html/index.en.html\"\n",
    "\n",
    "request_text = request.urlopen(url_ecb).read()\n",
    "page = bs4.BeautifulSoup(request_text, \"html.parser\")\n",
    "\n",
    "policy_rates_df = page.find('table')\n",
    "table_body = policy_rates_df.find('tbody')\n",
    "rows = table_body.find_all('tr')\n",
    "\n",
    "#Completing the first column with the previous value if there is none\n",
    "\n",
    "data_temp = []\n",
    "\n",
    "for row in rows:\n",
    "    cols = row.find_all('td')\n",
    "    cols = [ele.text.strip() for ele in cols]\n",
    "    if cols[0] == '':\n",
    "        cols[0] = previous_value\n",
    "    previous_value = cols[0]\n",
    "    data_temp.append(cols)\n",
    "\n",
    "columns = ['Year', 'Date', 'Deposit facility', 'Fixed rate', 'Minimum bid rate', 'Marginal lending facility']\n",
    "policy_rates_df = pd.DataFrame(data_temp, columns=columns)\n",
    "print(policy_rates_df.head())\n"
   ]
  },
  {
   "cell_type": "markdown",
   "metadata": {},
   "source": [
    "Une fois le problème des années pas toujours présentes dans la première colonne, il nous a fallu régler les deux problèmes restants (pas de date dans un format standard comme DD/MM/YYYY, mais avec des abréviations).\n",
    "Nous avons d'abord tenté d'utiliser pd.to_datetime, mais il s'est avéré qu'il n'arrivait pas bien à assimiler le format. Nous avons alors eu l'idée d'utiliser une expression régulière : \n",
    "- (\\d{1,2}): correspond à 1 ou 2 chiffres (\\d) qui représentent le jour du mois \n",
    "- \\s: un espace ou une tabulation (dans notre cas, l'espace entre le jour et l'abréviation du mois)\n",
    "- (\\w{3}): 3 caractères alphanumériques, représentant les abréviations de tous les mois étaient abrégés avec 3 caractères alphanumériques\n",
    "\n",
    "Nous avons ensuite utilisé la fonction Map afin de passer des abréviations des mois au format souhaité YYYY-MM-DD"
   ]
  },
  {
   "cell_type": "code",
   "execution_count": 2,
   "metadata": {},
   "outputs": [
    {
     "name": "stdout",
     "output_type": "stream",
     "text": [
      "   Year       Date Deposit facility Fixed rate Minimum bid rate  \\\n",
      "0  2023 2023-09-20             4.00       4.50                -   \n",
      "1  2023 2023-08-02             3.75       4.25                -   \n",
      "2  2023 2023-06-21             3.50       4.00                -   \n",
      "3  2023 2023-05-10             3.25       3.75                -   \n",
      "4  2023 2023-03-22             3.00       3.50                -   \n",
      "\n",
      "  Marginal lending facility  \n",
      "0                      4.75  \n",
      "1                      4.50  \n",
      "2                      4.25  \n",
      "3                      4.00  \n",
      "4                      3.75  \n",
      "        Date  Deposit facility  Fixed rate  Minimum bid rate  \\\n",
      "0 2023-09-20              4.00        4.50               NaN   \n",
      "1 2023-08-02              3.75        4.25               NaN   \n",
      "2 2023-06-21              3.50        4.00               NaN   \n",
      "3 2023-05-10              3.25        3.75               NaN   \n",
      "4 2023-03-22              3.00        3.50               NaN   \n",
      "\n",
      "   Marginal lending facility  \n",
      "0                       4.75  \n",
      "1                       4.50  \n",
      "2                       4.25  \n",
      "3                       4.00  \n",
      "4                       3.75  \n"
     ]
    }
   ],
   "source": [
    "extracted_date = policy_rates_df['Date'].str.extract(r'(\\d{1,2})\\s(\\w{3})')\n",
    "\n",
    "month_map = {\n",
    "    'Jan': '-01-', 'Feb': '-02-', 'Mar': '-03-',\n",
    "    'Apr': '-04-', 'May': '-05-', 'Jun': '-06-',\n",
    "    'Jul': '-07-', 'Aug': '-08-', 'Sep': '-09-',\n",
    "    'Oct': '-10-', 'Nov': '-11-', 'Dec': '-12-'\n",
    "}\n",
    "\n",
    "# Constructing the date such that format is YYYY-MM-DD\n",
    "policy_rates_df['Date'] = (\n",
    "    policy_rates_df['Year'].astype(str) + \n",
    "    extracted_date[1].map(month_map) + \n",
    "    extracted_date[0].astype(str)\n",
    ")\n",
    "\n",
    "policy_rates_df['Date'] = pd.to_datetime(policy_rates_df['Date'], format='%Y-%m-%d', errors='coerce')\n",
    "print(policy_rates_df.head())\n",
    "\n",
    "#Making sure that the wished float values are indeed float\n",
    "\n",
    "field_float = ['Deposit facility', 'Fixed rate', 'Minimum bid rate', 'Marginal lending facility']\n",
    "\n",
    "for col in field_float:\n",
    "    policy_rates_df[col] = pd.to_numeric(policy_rates_df[col], errors='coerce')\n",
    "\n",
    "policy_rates_df[field_float] = policy_rates_df[field_float].astype(float)\n",
    "\n",
    "\n",
    "policy_rates_df.drop('Year', axis=1, inplace=True) #Dropping the column Year as it is redundant \n",
    "print(policy_rates_df.head())  \n",
    "\n",
    "policy_rates_df.to_csv('datas/' + 'policy_rates.csv', index=False) #saving the file as csv"
   ]
  },
  {
   "cell_type": "markdown",
   "metadata": {},
   "source": [
    "Enfin, étant donné que notre objectif était d'avoir une base de données avec des données mensuelles, il a fallu créer un nouveau dataframe avec des données mensuelles, et remplir les valeurs avec celles les plus proches."
   ]
  },
  {
   "cell_type": "code",
   "execution_count": 4,
   "metadata": {},
   "outputs": [
    {
     "name": "stdout",
     "output_type": "stream",
     "text": [
      "        DATE  Deposit facility  Fixed rate  Minimum bid rate  \\\n",
      "0 1999-01-01               2.0         3.0              4.25   \n",
      "1 1999-02-01               2.0         3.0              4.25   \n",
      "2 1999-03-01               2.0         3.0              4.25   \n",
      "3 1999-04-01               1.5         2.5              4.25   \n",
      "4 1999-05-01               1.5         2.5              4.25   \n",
      "\n",
      "   Marginal lending facility  \n",
      "0                        4.5  \n",
      "1                        4.5  \n",
      "2                        4.5  \n",
      "3                        3.5  \n",
      "4                        3.5  \n"
     ]
    }
   ],
   "source": [
    "policy_rates_df['Date'] = pd.to_datetime(policy_rates_df['Date'], format='%Y-%m-%d', errors='coerce')\n",
    "numeric_cols = policy_rates_df.select_dtypes(include='number').columns\n",
    "policy_rates_df[numeric_cols] = policy_rates_df[numeric_cols].ffill()\n",
    "\n",
    "#Creation of a new dataframe with monthly data (month starts) \n",
    "date_range = pd.date_range(start=min(policy_rates_df['Date']), end=max(policy_rates_df['Date']), freq='MS')\n",
    "policy_rates_monthly = pd.DataFrame({'Date': date_range})\n",
    "\n",
    "# Find closest date in the original df and complete the values in the monthly df\n",
    "\n",
    "for index, row in policy_rates_monthly.iterrows():\n",
    "    closest_date = policy_rates_df['Date'].iloc[(policy_rates_df['Date'] - row['Date']).abs().argsort()[:1]].values[0]    \n",
    "    policy_rates = policy_rates_df[policy_rates_df['Date'] == closest_date].drop('Date', axis=1)\n",
    "    policy_rates_monthly.loc[index, policy_rates.columns] = policy_rates.values[0]\n",
    "\n",
    "policy_rates_monthly = policy_rates_monthly.rename(columns={'Date': 'DATE'}) \n",
    "print(policy_rates_monthly.head())\n",
    "policy_rates_monthly.to_csv('datas/policy_rates_monthly.csv', index=False)\n"
   ]
  }
 ],
 "metadata": {
  "kernelspec": {
   "display_name": "Python 3",
   "language": "python",
   "name": "python3"
  },
  "language_info": {
   "codemirror_mode": {
    "name": "ipython",
    "version": 3
   },
   "file_extension": ".py",
   "mimetype": "text/x-python",
   "name": "python",
   "nbconvert_exporter": "python",
   "pygments_lexer": "ipython3",
   "version": "3.12.1"
  }
 },
 "nbformat": 4,
 "nbformat_minor": 2
}
